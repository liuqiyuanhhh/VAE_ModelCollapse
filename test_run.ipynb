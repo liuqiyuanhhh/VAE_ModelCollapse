{
 "cells": [
  {
   "cell_type": "code",
   "execution_count": 23,
   "id": "164e816c-ce3c-48a9-b400-047c12eb2b4d",
   "metadata": {
    "execution": {
     "iopub.execute_input": "2025-05-31T01:04:49.068498Z",
     "iopub.status.busy": "2025-05-31T01:04:49.067535Z",
     "iopub.status.idle": "2025-05-31T01:04:49.076105Z",
     "shell.execute_reply": "2025-05-31T01:04:49.075339Z",
     "shell.execute_reply.started": "2025-05-31T01:04:49.068428Z"
    }
   },
   "outputs": [],
   "source": [
    "import os\n",
    "import yaml\n",
    "import argparse\n",
    "import numpy as np\n",
    "from pathlib import Path\n",
    "from models import *\n",
    "from experiment import VAEXperiment\n",
    "import torch.backends.cudnn as cudnn\n",
    "from pytorch_lightning import Trainer\n",
    "from pytorch_lightning.loggers import TensorBoardLogger\n",
    "from pytorch_lightning.utilities.seed import seed_everything\n",
    "from pytorch_lightning.callbacks import LearningRateMonitor, ModelCheckpoint\n",
    "from dataset import VAEDataset\n",
    "from pytorch_lightning.plugins import DDPPlugin\n",
    "from torch.utils.data import DataLoader\n",
    "\n"
   ]
  },
  {
   "cell_type": "markdown",
   "id": "995e6337-3379-4841-925c-202051117781",
   "metadata": {},
   "source": [
    "# Model setup"
   ]
  },
  {
   "cell_type": "code",
   "execution_count": 24,
   "id": "bca456c3-21cb-4385-b8b4-f3f71d787034",
   "metadata": {
    "execution": {
     "iopub.execute_input": "2025-05-31T01:04:51.990006Z",
     "iopub.status.busy": "2025-05-31T01:04:51.989492Z",
     "iopub.status.idle": "2025-05-31T01:04:51.994894Z",
     "shell.execute_reply": "2025-05-31T01:04:51.994137Z",
     "shell.execute_reply.started": "2025-05-31T01:04:51.989989Z"
    }
   },
   "outputs": [
    {
     "name": "stdout",
     "output_type": "stream",
     "text": [
      "1\n",
      "NVIDIA GeForce RTX 4060 Ti\n"
     ]
    }
   ],
   "source": [
    "print(torch.cuda.device_count())       # Number of GPUs available\n",
    "print(torch.cuda.get_device_name(0))   # Name of GPU at index 0"
   ]
  },
  {
   "cell_type": "code",
   "execution_count": 25,
   "id": "f1998f17-e169-4ffa-93a0-fd0bb2cdec2c",
   "metadata": {
    "execution": {
     "iopub.execute_input": "2025-05-31T01:05:17.630529Z",
     "iopub.status.busy": "2025-05-31T01:05:17.630103Z",
     "iopub.status.idle": "2025-05-31T01:05:17.634847Z",
     "shell.execute_reply": "2025-05-31T01:05:17.634180Z",
     "shell.execute_reply.started": "2025-05-31T01:05:17.630512Z"
    }
   },
   "outputs": [],
   "source": [
    "config = {\n",
    "    'model_params': {'name': 'VanillaVAE',\n",
    "                     'in_channels': 1, # for MNIST\n",
    "                     #'in_channels': 3,#for CelebA\n",
    "                     'latent_dim': 128},\n",
    "    'data_params': {\n",
    "        'data_path': \"Data/\",\n",
    "        'train_batch_size': 64,\n",
    "        'val_batch_size': 64,\n",
    "        'num_workers': 4,        \n",
    "    },\n",
    "    'exp_params': {\n",
    "        'LR': 0.005,\n",
    "        'weight_decay': 0.0,\n",
    "        'scheduler_gamma': 0.95,\n",
    "        'kld_weight': 0.00025,\n",
    "        'manual_seed': 1265\n",
    "    },\n",
    "    'trainer_params': {'max_epochs': 100},\n",
    "    'logging_params': {'save_dir': 'logs/', 'name': 'VanillaVAE'}\n",
    "}"
   ]
  },
  {
   "cell_type": "code",
   "execution_count": 26,
   "id": "4b0be1f0-0f8b-4fe9-85ab-d780addf3368",
   "metadata": {
    "execution": {
     "iopub.execute_input": "2025-05-31T01:05:23.063297Z",
     "iopub.status.busy": "2025-05-31T01:05:23.062863Z",
     "iopub.status.idle": "2025-05-31T01:05:23.085995Z",
     "shell.execute_reply": "2025-05-31T01:05:23.085314Z",
     "shell.execute_reply.started": "2025-05-31T01:05:23.063281Z"
    },
    "scrolled": true
   },
   "outputs": [
    {
     "name": "stderr",
     "output_type": "stream",
     "text": [
      "Global seed set to 1265\n"
     ]
    },
    {
     "data": {
      "text/plain": [
       "1265"
      ]
     },
     "execution_count": 26,
     "metadata": {},
     "output_type": "execute_result"
    }
   ],
   "source": [
    "# 2. Initialize logger\n",
    "logger = TensorBoardLogger(save_dir=config['logging_params']['save_dir'],\n",
    "                           name=config['model_params']['name'])\n",
    "\n",
    "# 3. Set random seed for reproducibility\n",
    "seed_everything(config['exp_params']['manual_seed'], True)\n"
   ]
  },
  {
   "cell_type": "markdown",
   "id": "8f6016e9-0514-466b-817a-a1a65fd17793",
   "metadata": {},
   "source": [
    "## Loading data \n",
    "MNIST data is 1 channel 28\\*28 pixels and celeA is 3 channels 64\\*64 pixels, so the loading class is different\n"
   ]
  },
  {
   "cell_type": "markdown",
   "id": "4d4ed17c-6d13-490f-ac33-888ed0e74ee3",
   "metadata": {},
   "source": [
    "### run this cell when training MNIST"
   ]
  },
  {
   "cell_type": "code",
   "execution_count": 32,
   "id": "b51c3dc3-e477-4397-9a38-6f2b9eaf3c91",
   "metadata": {
    "execution": {
     "iopub.execute_input": "2025-05-31T01:13:57.998977Z",
     "iopub.status.busy": "2025-05-31T01:13:57.998678Z",
     "iopub.status.idle": "2025-05-31T01:13:58.107483Z",
     "shell.execute_reply": "2025-05-31T01:13:58.106760Z",
     "shell.execute_reply.started": "2025-05-31T01:13:57.998960Z"
    }
   },
   "outputs": [],
   "source": [
    "#for loading MNIST data\n",
    "from dataset import MNISTDataModule\n",
    "\n",
    "resize = False\n",
    "input_res = 28\n",
    "hidden_dims = [32, 64, 128, 256]\n",
    "if resize:\n",
    "    input_res = 64\n",
    "    hidden_dims = None\n",
    "data = MNISTDataModule(\n",
    "    data_dir=config['data_params']['data_path'],\n",
    "    train_batch_size=config['data_params']['train_batch_size'],\n",
    "    val_batch_size=config['data_params']['val_batch_size'],\n",
    "    num_workers=config['data_params']['num_workers'],\n",
    "    pin_memory=torch.cuda.is_available(),\n",
    "    resize_mnist = resize\n",
    ")\n",
    "data.setup()\n",
    "\n",
    "# 4. Instantiate model using name key from config\n",
    "model = VanillaVAE(in_channels=config['model_params']['in_channels'],latent_dim=config['model_params']['latent_dim'],\n",
    "                   input_height=input_res,input_width=input_res,hidden_dims=hidden_dims)\n"
   ]
  },
  {
   "cell_type": "markdown",
   "id": "8c3d12cd-32b1-4411-a132-c194e898552d",
   "metadata": {
    "execution": {
     "iopub.execute_input": "2025-05-31T01:12:17.998552Z",
     "iopub.status.busy": "2025-05-31T01:12:17.997900Z",
     "iopub.status.idle": "2025-05-31T01:12:18.002036Z",
     "shell.execute_reply": "2025-05-31T01:12:18.001371Z",
     "shell.execute_reply.started": "2025-05-31T01:12:17.998535Z"
    }
   },
   "source": [
    "### run this cell when training on CelebA\n",
    "for celeA data, torch vision can not download it directly, we can download the data manually from: https://mmlab.ie.cuhk.edu.hk/projects/CelebA.html\n",
    "download alig & cropped Images.zip\n",
    "\n",
    "into working directory: VAE_ModelCollapse/Data/celeba\n",
    "the orgnization of the data directory will look like:\n",
    "\n",
    "VAE_ModelCollapse/Data/celeba/img_align_celeba (all the face images are here)\n",
    "VAE_ModelCollapse/Data/celeba/identity_CelebA.txt\n",
    "VAE_ModelCollapse/Data/celeba/list_attr_celeba.txt\n",
    "VAE_ModelCollapse/Data/celeba/list_attr_celeba.txt \n",
    "VAE_ModelCollapse/Data/celeba/list_eval_partition.txt          \n",
    "VAE_ModelCollapse/Data/celeba/list_landmarks_celeba.txt\n",
    "VAE_ModelCollapse/Data/celeba/list_bbox_celeba.txt\n",
    "VAE_ModelCollapse/Data/celeba/list_landmarks_align_celeba.txt\n",
    "\n"
   ]
  },
  {
   "cell_type": "code",
   "execution_count": 30,
   "id": "e421f90d-f600-454e-b030-9a1bb249c801",
   "metadata": {
    "execution": {
     "iopub.execute_input": "2025-05-31T01:12:32.897155Z",
     "iopub.status.busy": "2025-05-31T01:12:32.896687Z",
     "iopub.status.idle": "2025-05-31T01:12:51.409528Z",
     "shell.execute_reply": "2025-05-31T01:12:51.408639Z",
     "shell.execute_reply.started": "2025-05-31T01:12:32.897136Z"
    }
   },
   "outputs": [],
   "source": [
    "#for loading celebA data\n",
    "\n",
    "input_res = 64\n",
    "hidden_dims = None\n",
    "data = VAEDataset(\n",
    "    data_path=config['data_params']['data_path'],\n",
    "    train_batch_size=config['data_params']['train_batch_size'],\n",
    "    val_batch_size=config['data_params']['val_batch_size'],\n",
    "    patch_size=(input_res, input_res),\n",
    "    num_workers=config['data_params']['num_workers'],\n",
    "    pin_memory=torch.cuda.is_available()\n",
    ")\n",
    "data.setup()\n",
    "# 4. Instantiate model using name key from config\n",
    "model = VanillaVAE(in_channels=config['model_params']['in_channels'],latent_dim=config['model_params']['latent_dim'],\n",
    "                   input_height=input_res,input_width=input_res,hidden_dims=hidden_dims)\n"
   ]
  },
  {
   "cell_type": "code",
   "execution_count": null,
   "id": "c1baff2c-6bfe-4fe3-abb2-7da76d63dac9",
   "metadata": {},
   "outputs": [],
   "source": []
  },
  {
   "cell_type": "code",
   "execution_count": 33,
   "id": "0aeb5c85",
   "metadata": {
    "execution": {
     "iopub.execute_input": "2025-05-31T01:14:01.574138Z",
     "iopub.status.busy": "2025-05-31T01:14:01.573709Z",
     "iopub.status.idle": "2025-05-31T01:14:01.792442Z",
     "shell.execute_reply": "2025-05-31T01:14:01.791577Z",
     "shell.execute_reply.started": "2025-05-31T01:14:01.574120Z"
    }
   },
   "outputs": [
    {
     "name": "stdout",
     "output_type": "stream",
     "text": [
      "Batch image shape: torch.Size([64, 1, 28, 28])\n"
     ]
    }
   ],
   "source": [
    "# 5. Wrap in LightningModule for training logic\n",
    "experiment = VAEXperiment(model, config['exp_params'])\n",
    "# 6. Get a batch from the training dataloader\n",
    "batch = next(iter(data.train_dataloader()))\n",
    "images, labels = batch  # MNIST returns (images, labels)\n",
    "print(\"Batch image shape:\", images.shape)"
   ]
  },
  {
   "cell_type": "code",
   "execution_count": 34,
   "id": "0df7b072-21ef-4691-bd70-4356c69d8afe",
   "metadata": {
    "execution": {
     "iopub.execute_input": "2025-05-31T01:14:05.883231Z",
     "iopub.status.busy": "2025-05-31T01:14:05.882634Z",
     "iopub.status.idle": "2025-05-31T01:14:05.896981Z",
     "shell.execute_reply": "2025-05-31T01:14:05.896335Z",
     "shell.execute_reply.started": "2025-05-31T01:14:05.883212Z"
    }
   },
   "outputs": [
    {
     "name": "stderr",
     "output_type": "stream",
     "text": [
      "GPU available: True, used: True\n",
      "TPU available: False, using: 0 TPU cores\n",
      "IPU available: False, using: 0 IPUs\n"
     ]
    }
   ],
   "source": [
    "# 7. Define trainer and callbacks\n",
    "trainer = Trainer(\n",
    "    logger=logger,\n",
    "    callbacks=[\n",
    "        LearningRateMonitor(),\n",
    "        ModelCheckpoint(save_top_k=2, \n",
    "                        dirpath=os.path.join(logger.log_dir, \"checkpoints\"), \n",
    "                        monitor=\"val_loss\",\n",
    "                        save_last=True)\n",
    "    ],\n",
    "    #strategy=DDPPlugin(find_unused_parameters=False),\n",
    "    accelerator=\"gpu\" if torch.cuda.is_available() else \"cpu\",\n",
    "    devices=1,\n",
    "    # **config['trainer_params']\n",
    "    max_epochs=config['trainer_params']['max_epochs'],\n",
    ")"
   ]
  },
  {
   "cell_type": "code",
   "execution_count": 38,
   "id": "37899315-99a0-4ab0-a4ce-1739ecb27524",
   "metadata": {
    "execution": {
     "iopub.execute_input": "2025-05-31T01:14:27.975662Z",
     "iopub.status.busy": "2025-05-31T01:14:27.975187Z",
     "iopub.status.idle": "2025-05-31T01:14:27.980560Z",
     "shell.execute_reply": "2025-05-31T01:14:27.979861Z",
     "shell.execute_reply.started": "2025-05-31T01:14:27.975644Z"
    }
   },
   "outputs": [
    {
     "data": {
      "text/plain": [
       "'logs/VanillaVAE/version_13'"
      ]
     },
     "execution_count": 38,
     "metadata": {},
     "output_type": "execute_result"
    }
   ],
   "source": [
    "# 8. Create folders for outputs\n",
    "Path(f\"{logger.log_dir}/Samples\").mkdir(exist_ok=True, parents=True)\n",
    "Path(f\"{logger.log_dir}/Reconstructions\").mkdir(exist_ok=True, parents=True)\n",
    "logger.log_dir"
   ]
  },
  {
   "cell_type": "markdown",
   "id": "a6d14786-a477-424e-a4ad-af87f786c927",
   "metadata": {},
   "source": [
    "# Training"
   ]
  },
  {
   "cell_type": "code",
   "execution_count": 37,
   "id": "d5970871-7229-4d4e-bf00-223a7f0be5b3",
   "metadata": {
    "execution": {
     "iopub.execute_input": "2025-05-31T01:14:17.955968Z",
     "iopub.status.busy": "2025-05-31T01:14:17.955559Z",
     "iopub.status.idle": "2025-05-31T01:14:17.958976Z",
     "shell.execute_reply": "2025-05-31T01:14:17.958293Z",
     "shell.execute_reply.started": "2025-05-31T01:14:17.955951Z"
    },
    "scrolled": true
   },
   "outputs": [],
   "source": [
    "# 9. Train the model\n",
    "trainer.fit(experiment, datamodule=data)"
   ]
  },
  {
   "cell_type": "code",
   "execution_count": null,
   "id": "4146a9bd-48d7-421c-8dea-6d265787ff5a",
   "metadata": {},
   "outputs": [],
   "source": []
  },
  {
   "cell_type": "markdown",
   "id": "66b322ab-47ca-403c-94dd-5150c7aa3b33",
   "metadata": {},
   "source": [
    "# Generate Samples"
   ]
  },
  {
   "cell_type": "code",
   "execution_count": 20,
   "id": "c4f5f2e3-8b6c-489f-80c3-de5e1668dbdd",
   "metadata": {
    "execution": {
     "iopub.execute_input": "2025-05-30T22:55:23.281694Z",
     "iopub.status.busy": "2025-05-30T22:55:23.281034Z",
     "iopub.status.idle": "2025-05-30T22:55:23.304938Z",
     "shell.execute_reply": "2025-05-30T22:55:23.304042Z",
     "shell.execute_reply.started": "2025-05-30T22:55:23.281677Z"
    }
   },
   "outputs": [],
   "source": [
    "\n",
    "model.eval()\n",
    "row_num = 5\n",
    "device = next(model.parameters()).device\n",
    "with torch.no_grad():\n",
    "    samples = model.sample(row_num*row_num,current_device=device)  # Generate 16 samples (returns tensor of shape [16, 1, 64, 64])\n",
    "#imgs = (samples+1)/2"
   ]
  },
  {
   "cell_type": "code",
   "execution_count": 21,
   "id": "53a6db3f-b332-4df1-b666-52a724c06d36",
   "metadata": {
    "execution": {
     "iopub.execute_input": "2025-05-30T22:55:24.432401Z",
     "iopub.status.busy": "2025-05-30T22:55:24.431990Z",
     "iopub.status.idle": "2025-05-30T22:55:24.436725Z",
     "shell.execute_reply": "2025-05-30T22:55:24.436051Z",
     "shell.execute_reply.started": "2025-05-30T22:55:24.432384Z"
    }
   },
   "outputs": [
    {
     "data": {
      "text/plain": [
       "torch.Size([25, 3, 64, 64])"
      ]
     },
     "execution_count": 21,
     "metadata": {},
     "output_type": "execute_result"
    }
   ],
   "source": [
    "imgs.shape"
   ]
  },
  {
   "cell_type": "code",
   "execution_count": 42,
   "id": "f97a4281-7052-41a5-a1d8-94eb9b070b19",
   "metadata": {
    "execution": {
     "iopub.execute_input": "2025-05-31T01:17:17.989092Z",
     "iopub.status.busy": "2025-05-31T01:17:17.988425Z",
     "iopub.status.idle": "2025-05-31T01:17:17.992111Z",
     "shell.execute_reply": "2025-05-31T01:17:17.991362Z",
     "shell.execute_reply.started": "2025-05-31T01:17:17.989074Z"
    }
   },
   "outputs": [],
   "source": [
    "import matplotlib.pyplot as plt\n",
    "\n",
    "fig, axes = plt.subplots(row_num, row_num, figsize=(6, 6))\n",
    "for i, ax in enumerate(axes.flat):\n",
    "    # for celebA\n",
    "    #ax.imshow(imgs[i].cpu().numpy().transpose(1, 2, 0), cmap='gray')    \n",
    "    ax.imshow(imgs[i].cpu().numpy().squeeze(), cmap='gray')\n",
    "    ax.axis('off')\n",
    "plt.tight_layout()\n",
    "plt.show()\n"
   ]
  },
  {
   "cell_type": "code",
   "execution_count": null,
   "id": "8a2d2baa-a853-4357-addb-ca4954c16a48",
   "metadata": {},
   "outputs": [],
   "source": []
  }
 ],
 "metadata": {
  "kernelspec": {
   "display_name": "Python 3 (ipykernel)",
   "language": "python",
   "name": "python3"
  },
  "language_info": {
   "codemirror_mode": {
    "name": "ipython",
    "version": 3
   },
   "file_extension": ".py",
   "mimetype": "text/x-python",
   "name": "python",
   "nbconvert_exporter": "python",
   "pygments_lexer": "ipython3",
   "version": "3.10.13"
  }
 },
 "nbformat": 4,
 "nbformat_minor": 5
}
